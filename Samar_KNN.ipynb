{
 "cells": [
  {
   "cell_type": "markdown",
   "id": "5c76ca17",
   "metadata": {},
   "source": [
    "# MNIST dataset classification Using K-Nearest Neighborhood (KNN) algorithm\n",
    "Samar Amini,\n",
    "May 2022"
   ]
  },
  {
   "cell_type": "code",
   "execution_count": 1,
   "id": "aebbcac1",
   "metadata": {},
   "outputs": [],
   "source": [
    "import pandas as pd\n",
    "import numpy as np\n",
    "import matplotlib.pyplot as plt\n",
    "import seaborn as sns\n",
    "\n",
    "from sklearn.preprocessing import StandardScaler\n",
    "from sklearn.neighbors import KNeighborsClassifier\n",
    "from sklearn.metrics import confusion_matrix, accuracy_score, plot_confusion_matrix"
   ]
  },
  {
   "cell_type": "markdown",
   "id": "700c6cbb",
   "metadata": {},
   "source": [
    "### Reading data"
   ]
  },
  {
   "cell_type": "code",
   "execution_count": 2,
   "id": "75fbe24c",
   "metadata": {},
   "outputs": [],
   "source": [
    "train1 = pd.read_csv('../Data/train_sample.csv')\n",
    "test1 = pd.read_csv('../Data/test_sample.csv')\n",
    "\n",
    "train2 = pd.read_csv('../Data/train_sample_2.csv')\n",
    "test2 = pd.read_csv('../Data/test_sample_2.csv')"
   ]
  },
  {
   "cell_type": "markdown",
   "id": "2f0c9ef8",
   "metadata": {},
   "source": [
    "### Analysing data"
   ]
  },
  {
   "cell_type": "code",
   "execution_count": 3,
   "id": "3bdbd780",
   "metadata": {},
   "outputs": [
    {
     "data": {
      "text/html": [
       "<div>\n",
       "<style scoped>\n",
       "    .dataframe tbody tr th:only-of-type {\n",
       "        vertical-align: middle;\n",
       "    }\n",
       "\n",
       "    .dataframe tbody tr th {\n",
       "        vertical-align: top;\n",
       "    }\n",
       "\n",
       "    .dataframe thead th {\n",
       "        text-align: right;\n",
       "    }\n",
       "</style>\n",
       "<table border=\"1\" class=\"dataframe\">\n",
       "  <thead>\n",
       "    <tr style=\"text-align: right;\">\n",
       "      <th></th>\n",
       "      <th>label</th>\n",
       "      <th>pixel0</th>\n",
       "      <th>pixel1</th>\n",
       "      <th>pixel2</th>\n",
       "      <th>pixel3</th>\n",
       "      <th>pixel4</th>\n",
       "      <th>pixel5</th>\n",
       "      <th>pixel6</th>\n",
       "      <th>pixel7</th>\n",
       "      <th>pixel8</th>\n",
       "      <th>...</th>\n",
       "      <th>pixel774</th>\n",
       "      <th>pixel775</th>\n",
       "      <th>pixel776</th>\n",
       "      <th>pixel777</th>\n",
       "      <th>pixel778</th>\n",
       "      <th>pixel779</th>\n",
       "      <th>pixel780</th>\n",
       "      <th>pixel781</th>\n",
       "      <th>pixel782</th>\n",
       "      <th>pixel783</th>\n",
       "    </tr>\n",
       "  </thead>\n",
       "  <tbody>\n",
       "    <tr>\n",
       "      <th>0</th>\n",
       "      <td>0</td>\n",
       "      <td>0</td>\n",
       "      <td>0</td>\n",
       "      <td>0</td>\n",
       "      <td>0</td>\n",
       "      <td>0</td>\n",
       "      <td>0</td>\n",
       "      <td>0</td>\n",
       "      <td>0</td>\n",
       "      <td>0</td>\n",
       "      <td>...</td>\n",
       "      <td>0</td>\n",
       "      <td>0</td>\n",
       "      <td>0</td>\n",
       "      <td>0</td>\n",
       "      <td>0</td>\n",
       "      <td>0</td>\n",
       "      <td>0</td>\n",
       "      <td>0</td>\n",
       "      <td>0</td>\n",
       "      <td>0</td>\n",
       "    </tr>\n",
       "    <tr>\n",
       "      <th>1</th>\n",
       "      <td>0</td>\n",
       "      <td>0</td>\n",
       "      <td>0</td>\n",
       "      <td>0</td>\n",
       "      <td>0</td>\n",
       "      <td>0</td>\n",
       "      <td>0</td>\n",
       "      <td>0</td>\n",
       "      <td>0</td>\n",
       "      <td>0</td>\n",
       "      <td>...</td>\n",
       "      <td>0</td>\n",
       "      <td>0</td>\n",
       "      <td>0</td>\n",
       "      <td>0</td>\n",
       "      <td>0</td>\n",
       "      <td>0</td>\n",
       "      <td>0</td>\n",
       "      <td>0</td>\n",
       "      <td>0</td>\n",
       "      <td>0</td>\n",
       "    </tr>\n",
       "    <tr>\n",
       "      <th>2</th>\n",
       "      <td>0</td>\n",
       "      <td>0</td>\n",
       "      <td>0</td>\n",
       "      <td>0</td>\n",
       "      <td>0</td>\n",
       "      <td>0</td>\n",
       "      <td>0</td>\n",
       "      <td>0</td>\n",
       "      <td>0</td>\n",
       "      <td>0</td>\n",
       "      <td>...</td>\n",
       "      <td>0</td>\n",
       "      <td>0</td>\n",
       "      <td>0</td>\n",
       "      <td>0</td>\n",
       "      <td>0</td>\n",
       "      <td>0</td>\n",
       "      <td>0</td>\n",
       "      <td>0</td>\n",
       "      <td>0</td>\n",
       "      <td>0</td>\n",
       "    </tr>\n",
       "    <tr>\n",
       "      <th>3</th>\n",
       "      <td>0</td>\n",
       "      <td>0</td>\n",
       "      <td>0</td>\n",
       "      <td>0</td>\n",
       "      <td>0</td>\n",
       "      <td>0</td>\n",
       "      <td>0</td>\n",
       "      <td>0</td>\n",
       "      <td>0</td>\n",
       "      <td>0</td>\n",
       "      <td>...</td>\n",
       "      <td>0</td>\n",
       "      <td>0</td>\n",
       "      <td>0</td>\n",
       "      <td>0</td>\n",
       "      <td>0</td>\n",
       "      <td>0</td>\n",
       "      <td>0</td>\n",
       "      <td>0</td>\n",
       "      <td>0</td>\n",
       "      <td>0</td>\n",
       "    </tr>\n",
       "    <tr>\n",
       "      <th>4</th>\n",
       "      <td>0</td>\n",
       "      <td>0</td>\n",
       "      <td>0</td>\n",
       "      <td>0</td>\n",
       "      <td>0</td>\n",
       "      <td>0</td>\n",
       "      <td>0</td>\n",
       "      <td>0</td>\n",
       "      <td>0</td>\n",
       "      <td>0</td>\n",
       "      <td>...</td>\n",
       "      <td>0</td>\n",
       "      <td>0</td>\n",
       "      <td>0</td>\n",
       "      <td>0</td>\n",
       "      <td>0</td>\n",
       "      <td>0</td>\n",
       "      <td>0</td>\n",
       "      <td>0</td>\n",
       "      <td>0</td>\n",
       "      <td>0</td>\n",
       "    </tr>\n",
       "  </tbody>\n",
       "</table>\n",
       "<p>5 rows × 785 columns</p>\n",
       "</div>"
      ],
      "text/plain": [
       "   label  pixel0  pixel1  pixel2  pixel3  pixel4  pixel5  pixel6  pixel7  \\\n",
       "0      0       0       0       0       0       0       0       0       0   \n",
       "1      0       0       0       0       0       0       0       0       0   \n",
       "2      0       0       0       0       0       0       0       0       0   \n",
       "3      0       0       0       0       0       0       0       0       0   \n",
       "4      0       0       0       0       0       0       0       0       0   \n",
       "\n",
       "   pixel8  ...  pixel774  pixel775  pixel776  pixel777  pixel778  pixel779  \\\n",
       "0       0  ...         0         0         0         0         0         0   \n",
       "1       0  ...         0         0         0         0         0         0   \n",
       "2       0  ...         0         0         0         0         0         0   \n",
       "3       0  ...         0         0         0         0         0         0   \n",
       "4       0  ...         0         0         0         0         0         0   \n",
       "\n",
       "   pixel780  pixel781  pixel782  pixel783  \n",
       "0         0         0         0         0  \n",
       "1         0         0         0         0  \n",
       "2         0         0         0         0  \n",
       "3         0         0         0         0  \n",
       "4         0         0         0         0  \n",
       "\n",
       "[5 rows x 785 columns]"
      ]
     },
     "execution_count": 3,
     "metadata": {},
     "output_type": "execute_result"
    }
   ],
   "source": [
    "train1.head()"
   ]
  },
  {
   "cell_type": "code",
   "execution_count": 31,
   "id": "ea74439f",
   "metadata": {},
   "outputs": [
    {
     "data": {
      "text/html": [
       "<div>\n",
       "<style scoped>\n",
       "    .dataframe tbody tr th:only-of-type {\n",
       "        vertical-align: middle;\n",
       "    }\n",
       "\n",
       "    .dataframe tbody tr th {\n",
       "        vertical-align: top;\n",
       "    }\n",
       "\n",
       "    .dataframe thead th {\n",
       "        text-align: right;\n",
       "    }\n",
       "</style>\n",
       "<table border=\"1\" class=\"dataframe\">\n",
       "  <thead>\n",
       "    <tr style=\"text-align: right;\">\n",
       "      <th></th>\n",
       "      <th>label</th>\n",
       "      <th>pixel0</th>\n",
       "      <th>pixel1</th>\n",
       "      <th>pixel2</th>\n",
       "      <th>pixel3</th>\n",
       "      <th>pixel4</th>\n",
       "      <th>pixel5</th>\n",
       "      <th>pixel6</th>\n",
       "      <th>pixel7</th>\n",
       "      <th>pixel8</th>\n",
       "      <th>...</th>\n",
       "      <th>pixel771</th>\n",
       "      <th>pixel772</th>\n",
       "      <th>pixel773</th>\n",
       "      <th>pixel774</th>\n",
       "      <th>pixel775</th>\n",
       "      <th>pixel776</th>\n",
       "      <th>pixel777</th>\n",
       "      <th>pixel778</th>\n",
       "      <th>pixel779</th>\n",
       "      <th>pixel780</th>\n",
       "    </tr>\n",
       "  </thead>\n",
       "  <tbody>\n",
       "    <tr>\n",
       "      <th>0</th>\n",
       "      <td>0</td>\n",
       "      <td>0</td>\n",
       "      <td>0</td>\n",
       "      <td>0</td>\n",
       "      <td>0</td>\n",
       "      <td>0</td>\n",
       "      <td>0</td>\n",
       "      <td>0</td>\n",
       "      <td>0</td>\n",
       "      <td>0</td>\n",
       "      <td>...</td>\n",
       "      <td>0</td>\n",
       "      <td>0</td>\n",
       "      <td>0</td>\n",
       "      <td>0</td>\n",
       "      <td>0</td>\n",
       "      <td>0</td>\n",
       "      <td>0</td>\n",
       "      <td>0</td>\n",
       "      <td>0</td>\n",
       "      <td>0</td>\n",
       "    </tr>\n",
       "    <tr>\n",
       "      <th>1</th>\n",
       "      <td>0</td>\n",
       "      <td>0</td>\n",
       "      <td>0</td>\n",
       "      <td>0</td>\n",
       "      <td>0</td>\n",
       "      <td>0</td>\n",
       "      <td>0</td>\n",
       "      <td>0</td>\n",
       "      <td>0</td>\n",
       "      <td>0</td>\n",
       "      <td>...</td>\n",
       "      <td>0</td>\n",
       "      <td>0</td>\n",
       "      <td>0</td>\n",
       "      <td>0</td>\n",
       "      <td>0</td>\n",
       "      <td>0</td>\n",
       "      <td>0</td>\n",
       "      <td>0</td>\n",
       "      <td>0</td>\n",
       "      <td>0</td>\n",
       "    </tr>\n",
       "    <tr>\n",
       "      <th>2</th>\n",
       "      <td>0</td>\n",
       "      <td>0</td>\n",
       "      <td>0</td>\n",
       "      <td>0</td>\n",
       "      <td>0</td>\n",
       "      <td>0</td>\n",
       "      <td>0</td>\n",
       "      <td>0</td>\n",
       "      <td>0</td>\n",
       "      <td>0</td>\n",
       "      <td>...</td>\n",
       "      <td>0</td>\n",
       "      <td>0</td>\n",
       "      <td>0</td>\n",
       "      <td>0</td>\n",
       "      <td>0</td>\n",
       "      <td>0</td>\n",
       "      <td>0</td>\n",
       "      <td>0</td>\n",
       "      <td>0</td>\n",
       "      <td>0</td>\n",
       "    </tr>\n",
       "    <tr>\n",
       "      <th>3</th>\n",
       "      <td>0</td>\n",
       "      <td>0</td>\n",
       "      <td>0</td>\n",
       "      <td>0</td>\n",
       "      <td>0</td>\n",
       "      <td>0</td>\n",
       "      <td>0</td>\n",
       "      <td>0</td>\n",
       "      <td>0</td>\n",
       "      <td>0</td>\n",
       "      <td>...</td>\n",
       "      <td>0</td>\n",
       "      <td>0</td>\n",
       "      <td>0</td>\n",
       "      <td>0</td>\n",
       "      <td>0</td>\n",
       "      <td>0</td>\n",
       "      <td>0</td>\n",
       "      <td>0</td>\n",
       "      <td>0</td>\n",
       "      <td>0</td>\n",
       "    </tr>\n",
       "    <tr>\n",
       "      <th>4</th>\n",
       "      <td>0</td>\n",
       "      <td>0</td>\n",
       "      <td>0</td>\n",
       "      <td>0</td>\n",
       "      <td>0</td>\n",
       "      <td>0</td>\n",
       "      <td>0</td>\n",
       "      <td>0</td>\n",
       "      <td>0</td>\n",
       "      <td>0</td>\n",
       "      <td>...</td>\n",
       "      <td>0</td>\n",
       "      <td>0</td>\n",
       "      <td>0</td>\n",
       "      <td>0</td>\n",
       "      <td>0</td>\n",
       "      <td>0</td>\n",
       "      <td>0</td>\n",
       "      <td>0</td>\n",
       "      <td>0</td>\n",
       "      <td>0</td>\n",
       "    </tr>\n",
       "  </tbody>\n",
       "</table>\n",
       "<p>5 rows × 782 columns</p>\n",
       "</div>"
      ],
      "text/plain": [
       "   label  pixel0  pixel1  pixel2  pixel3  pixel4  pixel5  pixel6  pixel7  \\\n",
       "0      0       0       0       0       0       0       0       0       0   \n",
       "1      0       0       0       0       0       0       0       0       0   \n",
       "2      0       0       0       0       0       0       0       0       0   \n",
       "3      0       0       0       0       0       0       0       0       0   \n",
       "4      0       0       0       0       0       0       0       0       0   \n",
       "\n",
       "   pixel8  ...  pixel771  pixel772  pixel773  pixel774  pixel775  pixel776  \\\n",
       "0       0  ...         0         0         0         0         0         0   \n",
       "1       0  ...         0         0         0         0         0         0   \n",
       "2       0  ...         0         0         0         0         0         0   \n",
       "3       0  ...         0         0         0         0         0         0   \n",
       "4       0  ...         0         0         0         0         0         0   \n",
       "\n",
       "   pixel777  pixel778  pixel779  pixel780  \n",
       "0         0         0         0         0  \n",
       "1         0         0         0         0  \n",
       "2         0         0         0         0  \n",
       "3         0         0         0         0  \n",
       "4         0         0         0         0  \n",
       "\n",
       "[5 rows x 782 columns]"
      ]
     },
     "execution_count": 31,
     "metadata": {},
     "output_type": "execute_result"
    }
   ],
   "source": [
    "train2.head()"
   ]
  },
  {
   "cell_type": "code",
   "execution_count": 66,
   "id": "445a1367",
   "metadata": {},
   "outputs": [
    {
     "name": "stdout",
     "output_type": "stream",
     "text": [
      "train1:  (5000, 785)\n",
      "test1:  (1000, 785)\n",
      "train2:  (5000, 782)\n",
      "test2:  (1000, 785)\n"
     ]
    }
   ],
   "source": [
    "print('train1: ', train1.shape)\n",
    "print('test1: ', test1.shape)\n",
    "\n",
    "print('train2: ', train2.shape)\n",
    "print('test2: ', test2.shape)"
   ]
  },
  {
   "cell_type": "code",
   "execution_count": 67,
   "id": "1754a881",
   "metadata": {},
   "outputs": [
    {
     "name": "stdout",
     "output_type": "stream",
     "text": [
      "min & max label values for train1:  0  ,  9\n",
      "min & max label values for test1:  0  ,  9\n",
      "----------------\n",
      "min & max label values for train2::  0  ,  9\n",
      "min & max label values for test2:  0  ,  9\n"
     ]
    }
   ],
   "source": [
    "print('min & max label values for train1: ', train1.label.min(),' , ',  train1.label.max())\n",
    "print('min & max label values for test1: ', test1.label.min(),' , ',  test1.label.max())\n",
    "print('----------------')\n",
    "print('min & max label values for train2:: ', train2.label.min(),' , ',  train2.label.max())\n",
    "print('min & max label values for test2: ', test2.label.min(),' , ',  test2.label.max())\n"
   ]
  },
  {
   "cell_type": "code",
   "execution_count": 11,
   "id": "a2109753",
   "metadata": {
    "collapsed": true
   },
   "outputs": [
    {
     "data": {
      "text/plain": [
       "<AxesSubplot:>"
      ]
     },
     "execution_count": 11,
     "metadata": {},
     "output_type": "execute_result"
    },
    {
     "data": {
      "image/png": "[encoded data removed]",
      "text/plain": [
       "<Figure size 432x288 with 1 Axes>"
      ]
     },
     "metadata": {
      "needs_background": "light"
     },
     "output_type": "display_data"
    }
   ],
   "source": [
    "train1.label.hist(bins=30)"
   ]
  },
  {
   "cell_type": "code",
   "execution_count": 33,
   "id": "a1695f57",
   "metadata": {
    "collapsed": true
   },
   "outputs": [
    {
     "data": {
      "text/plain": [
       "<AxesSubplot:>"
      ]
     },
     "execution_count": 33,
     "metadata": {},
     "output_type": "execute_result"
    },
    {
     "data": {
      "image/png": "[encoded data removed]",
      "text/plain": [
       "<Figure size 432x288 with 1 Axes>"
      ]
     },
     "metadata": {
      "needs_background": "light"
     },
     "output_type": "display_data"
    }
   ],
   "source": [
    "train1.label.hist(bins=30)"
   ]
  },
  {
   "cell_type": "markdown",
   "id": "3e73ddc8",
   "metadata": {},
   "source": [
    "### Analysera de två olika dataseten och välj det som du anser har bäst kvalite\n",
    "> I chose to continue with the \"train_sample.csv\" and \"test_sample.csv\" datasets, loaded here as \"train1 and test1\".</br>\n",
    "Both datasets look similar unless the other one has less attributes (coloumns) in the train set than the test set.\n",
    "\n",
    "### Hur många klasser finns det?\n",
    "> There are 10 classess in the dataset, which are listed in the coloumn \"label\". These Classes are numbers from 0 to 9.\n",
    "\n"
   ]
  },
  {
   "cell_type": "markdown",
   "id": "e17b94a1",
   "metadata": {},
   "source": [
    "### Rita ut minst en variant av varje siffra som en bild på siffran."
   ]
  },
  {
   "cell_type": "code",
   "execution_count": 3,
   "id": "b041506c",
   "metadata": {},
   "outputs": [],
   "source": [
    "## plitting the target and attributes into y and x variables.\n",
    "\n",
    "x_train1 = train1.drop(['label'], axis=1).values\n",
    "y_train1 = train1.label.values\n",
    "\n",
    "x_test1 = test1.drop(['label'], axis=1).values\n",
    "y_test1 = test1.label.values"
   ]
  },
  {
   "cell_type": "code",
   "execution_count": 5,
   "id": "c1ffeec7",
   "metadata": {},
   "outputs": [
    {
     "data": {
      "text/plain": [
       "(5000, 28, 28)"
      ]
     },
     "execution_count": 5,
     "metadata": {},
     "output_type": "execute_result"
    }
   ],
   "source": [
    "## reshaping xtrain to 3D array\n",
    "\n",
    "Xtrain = np.reshape(x_train1,(5000,28, 28))\n",
    "ytrain = y_train1\n",
    "Xtrain.shape"
   ]
  },
  {
   "cell_type": "code",
   "execution_count": 6,
   "id": "0449c539",
   "metadata": {},
   "outputs": [
    {
     "data": {
      "image/png": "[encoded data removed]",
      "text/plain": [
       "<Figure size 720x360 with 10 Axes>"
      ]
     },
     "metadata": {
      "needs_background": "light"
     },
     "output_type": "display_data"
    }
   ],
   "source": [
    "## plotting the images\n",
    "\n",
    "fig2, axes = plt.subplots(2,5,figsize=(10,5))\n",
    "axe = axes.flatten()\n",
    "\n",
    "for i in range(10):\n",
    "    im_idx = np.argwhere(ytrain == i)[0]\n",
    "    \n",
    "    plottable_image = np.reshape(Xtrain[im_idx], (28, 28))\n",
    "    axe[i].imshow(plottable_image, cmap='gray_r')\n",
    "\n",
    "plt.show()"
   ]
  },
  {
   "cell_type": "markdown",
   "id": "5d452518",
   "metadata": {},
   "source": [
    "### Training a KNN\n",
    "Vad har du för värde på k? Testa med olika värden\n",
    "> I tried with K values from 3 to 99 but only the odd numbers. </br>"
   ]
  },
  {
   "cell_type": "code",
   "execution_count": 7,
   "id": "b15a290b",
   "metadata": {},
   "outputs": [],
   "source": [
    "neighbors = []\n",
    "for i in range(3,100,2):\n",
    "    neighbors.append(i)\n",
    "    "
   ]
  },
  {
   "cell_type": "code",
   "execution_count": 8,
   "id": "b72842e7",
   "metadata": {},
   "outputs": [
    {
     "name": "stdout",
     "output_type": "stream",
     "text": [
      "K:  3 , testscore:  0.945\n",
      "K:  5 , testscore:  0.945\n",
      "K:  7 , testscore:  0.936\n",
      "K:  9 , testscore:  0.934\n",
      "K:  11 , testscore:  0.929\n",
      "K:  13 , testscore:  0.923\n",
      "K:  15 , testscore:  0.925\n",
      "K:  17 , testscore:  0.924\n",
      "K:  19 , testscore:  0.92\n",
      "K:  21 , testscore:  0.925\n",
      "K:  23 , testscore:  0.92\n",
      "K:  25 , testscore:  0.916\n",
      "K:  27 , testscore:  0.914\n",
      "K:  29 , testscore:  0.919\n",
      "K:  31 , testscore:  0.916\n",
      "K:  33 , testscore:  0.914\n",
      "K:  35 , testscore:  0.912\n",
      "K:  37 , testscore:  0.911\n",
      "K:  39 , testscore:  0.912\n",
      "K:  41 , testscore:  0.909\n",
      "K:  43 , testscore:  0.909\n",
      "K:  45 , testscore:  0.904\n",
      "K:  47 , testscore:  0.903\n",
      "K:  49 , testscore:  0.901\n",
      "K:  51 , testscore:  0.9\n",
      "K:  53 , testscore:  0.896\n",
      "K:  55 , testscore:  0.895\n",
      "K:  57 , testscore:  0.897\n",
      "K:  59 , testscore:  0.893\n",
      "K:  61 , testscore:  0.893\n",
      "K:  63 , testscore:  0.892\n",
      "K:  65 , testscore:  0.888\n",
      "K:  67 , testscore:  0.886\n",
      "K:  69 , testscore:  0.885\n",
      "K:  71 , testscore:  0.884\n",
      "K:  73 , testscore:  0.883\n",
      "K:  75 , testscore:  0.882\n",
      "K:  77 , testscore:  0.879\n",
      "K:  79 , testscore:  0.878\n",
      "K:  81 , testscore:  0.878\n",
      "K:  83 , testscore:  0.878\n",
      "K:  85 , testscore:  0.878\n",
      "K:  87 , testscore:  0.879\n",
      "K:  89 , testscore:  0.88\n",
      "K:  91 , testscore:  0.875\n",
      "K:  93 , testscore:  0.876\n",
      "K:  95 , testscore:  0.874\n",
      "K:  97 , testscore:  0.874\n",
      "K:  99 , testscore:  0.872\n"
     ]
    }
   ],
   "source": [
    "testscore = []\n",
    "for kk in neighbors:\n",
    "    KNN = KNeighborsClassifier(n_neighbors = kk)\n",
    "    KNN.fit(x_train1,y_train1)\n",
    "    testscore.append(KNN.score(x_test1,y_test1))\n",
    "    print(\"K: \", kk, \", testscore: \", KNN.score(x_test1,y_test1))\n",
    "       "
   ]
  },
  {
   "cell_type": "markdown",
   "id": "8a8e3284",
   "metadata": {},
   "source": [
    "### Vad får modellen för testscore?\n",
    "> Test-score varies between 0.945 to 0.872 as K increases from 3 to 99."
   ]
  },
  {
   "cell_type": "code",
   "execution_count": 9,
   "id": "d2856f5c",
   "metadata": {},
   "outputs": [
    {
     "data": {
      "text/plain": [
       "Text(0.5, 1.0, 'KNN Modeling')"
      ]
     },
     "execution_count": 9,
     "metadata": {},
     "output_type": "execute_result"
    },
    {
     "data": {
      "image/png": "[encoded data removed]",
      "text/plain": [
       "<Figure size 432x288 with 1 Axes>"
      ]
     },
     "metadata": {
      "needs_background": "light"
     },
     "output_type": "display_data"
    }
   ],
   "source": [
    "## plotting testscore variations with K\n",
    "\n",
    "plt.plot(neighbors,testscore,'-o')\n",
    "plt.xlabel('k values')\n",
    "plt.ylabel('testscore')\n",
    "plt.title('KNN Modeling')\n"
   ]
  },
  {
   "cell_type": "code",
   "execution_count": 11,
   "id": "6d6b1fdf",
   "metadata": {},
   "outputs": [
    {
     "name": "stdout",
     "output_type": "stream",
     "text": [
      "Max testscore: 0.945\n",
      "at K= 3\n"
     ]
    }
   ],
   "source": [
    "## finding the max testscore\n",
    "\n",
    "print('Max testscore:' ,max(testscore))\n",
    "max_index = testscore.index(max(testscore))\n",
    "#print(max_index)\n",
    "print('at K=',neighbors[max_index])"
   ]
  },
  {
   "cell_type": "markdown",
   "id": "4dfd61d9",
   "metadata": {},
   "source": [
    "### Skapa en confusion matrix för att se hur modellen klassificerar"
   ]
  },
  {
   "cell_type": "code",
   "execution_count": 12,
   "id": "b06834cd",
   "metadata": {},
   "outputs": [
    {
     "name": "stdout",
     "output_type": "stream",
     "text": [
      "Confusion Matrix : \n",
      " [[ 97   0   0   0   0   0   3   0   0   0]\n",
      " [  0 100   0   0   0   0   0   0   0   0]\n",
      " [  0   3  95   0   0   0   0   1   0   1]\n",
      " [  1   0   1  92   0   3   0   1   1   1]\n",
      " [  0   2   0   0  93   0   0   1   0   4]\n",
      " [  0   2   0   2   0  94   2   0   0   0]\n",
      " [  0   0   0   0   0   3  97   0   0   0]\n",
      " [  0   4   0   0   0   0   0  94   0   2]\n",
      " [  0   1   1   3   0   5   0   1  89   0]\n",
      " [  0   0   0   0   2   0   0   4   0  94]]\n"
     ]
    }
   ],
   "source": [
    "KNN = KNeighborsClassifier(n_neighbors = 5)\n",
    "KNN.fit(x_train1,y_train1)\n",
    "y_pred = KNN.predict(x_test1)\n",
    "\n",
    "cm = confusion_matrix(y_test1, y_pred)\n",
    "print (\"Confusion Matrix : \\n\", cm)"
   ]
  },
  {
   "cell_type": "code",
   "execution_count": 13,
   "id": "cf17cd8f",
   "metadata": {},
   "outputs": [
    {
     "name": "stderr",
     "output_type": "stream",
     "text": [
      "C:\\Users\\samar\\AppData\\Local\\Packages\\PythonSoftwareFoundation.Python.3.9_qbz5n2kfra8p0\\LocalCache\\local-packages\\Python39\\site-packages\\sklearn\\utils\\deprecation.py:87: FutureWarning: Function plot_confusion_matrix is deprecated; Function `plot_confusion_matrix` is deprecated in 1.0 and will be removed in 1.2. Use one of the class methods: ConfusionMatrixDisplay.from_predictions or ConfusionMatrixDisplay.from_estimator.\n",
      "  warnings.warn(msg, category=FutureWarning)\n"
     ]
    },
    {
     "data": {
      "image/png": "[encoded data removed]",
      "text/plain": [
       "<Figure size 432x288 with 2 Axes>"
      ]
     },
     "metadata": {
      "needs_background": "light"
     },
     "output_type": "display_data"
    }
   ],
   "source": [
    "plot_confusion_matrix(KNN, x_test1, y_test1)\n",
    "plt.show()"
   ]
  },
  {
   "cell_type": "markdown",
   "id": "bc20803a",
   "metadata": {},
   "source": [
    "> According to the confusion matrix, the model works best for class '1' and worst for class '8'"
   ]
  },
  {
   "cell_type": "markdown",
   "id": "3bead3b8",
   "metadata": {},
   "source": [
    "### Skriv en egen funktion så att de k närmsta grannarna ritas ut för en prediktion."
   ]
  },
  {
   "cell_type": "code",
   "execution_count": 115,
   "id": "8536ffd5",
   "metadata": {},
   "outputs": [
    {
     "name": "stdout",
     "output_type": "stream",
     "text": [
      "[[0. 0. 0. 0. 0. 1. 0. 0. 0. 0.]]\n"
     ]
    }
   ],
   "source": [
    "print(KNN.predict_proba(x_test1[566,:].reshape(1,784)) )"
   ]
  },
  {
   "cell_type": "code",
   "execution_count": 15,
   "id": "6891541f",
   "metadata": {},
   "outputs": [
    {
     "name": "stdout",
     "output_type": "stream",
     "text": [
      "(array([[1274.0698568 , 1596.4285139 , 1605.76492676, 1640.94728739,\n",
      "        1661.66693414]]), array([[2593, 2697, 2646, 2830, 2975]], dtype=int64))\n",
      "\n",
      ">> The first array shows distances, and second array shows index of the nearest neighbor points\n"
     ]
    }
   ],
   "source": [
    "print(KNN.kneighbors(x_test1[566,:].reshape(1,784) ))\n",
    "print()\n",
    "print('>> The first array shows distances, and second array shows index of the nearest neighbor points')"
   ]
  },
  {
   "cell_type": "code",
   "execution_count": null,
   "id": "dd0130bd",
   "metadata": {},
   "outputs": [],
   "source": []
  }
 ],
 "metadata": {
  "kernelspec": {
   "display_name": "Python 3 (ipykernel)",
   "language": "python",
   "name": "python3"
  },
  "language_info": {
   "codemirror_mode": {
    "name": "ipython",
    "version": 3
   },
   "file_extension": ".py",
   "mimetype": "text/x-python",
   "name": "python",
   "nbconvert_exporter": "python",
   "pygments_lexer": "ipython3",
   "version": "3.9.12"
  }
 },
 "nbformat": 4,
 "nbformat_minor": 5
}
